{
  "nbformat": 4,
  "nbformat_minor": 0,
  "metadata": {
    "colab": {
      "name": "TCM_python-introduction.ipynb",
      "provenance": [],
      "collapsed_sections": [
        "5wo4okele6PM"
      ]
    },
    "kernelspec": {
      "name": "python3",
      "display_name": "Python 3"
    }
  },
  "cells": [
    {
      "cell_type": "markdown",
      "metadata": {
        "id": "8DB4s7XSfw5z",
        "colab_type": "text"
      },
      "source": [
        "# **Laboratorio 02 TCM - Introduzione a Python**"
      ]
    },
    {
      "cell_type": "markdown",
      "metadata": {
        "id": "5wo4okele6PM",
        "colab_type": "text"
      },
      "source": [
        "Assegnamenti e stampa di valori"
      ]
    },
    {
      "cell_type": "code",
      "metadata": {
        "id": "7u8RVoUGbTMD",
        "colab_type": "code",
        "colab": {}
      },
      "source": [
        "x = 5\n",
        "y = 6\n",
        "t = x + y\n",
        "print(t)"
      ],
      "execution_count": 0,
      "outputs": []
    },
    {
      "cell_type": "markdown",
      "metadata": {
        "id": "BIJDGy-kbcWW",
        "colab_type": "text"
      },
      "source": [
        "Ciclo FOR"
      ]
    },
    {
      "cell_type": "code",
      "metadata": {
        "id": "WPCe6wWRbeso",
        "colab_type": "code",
        "colab": {}
      },
      "source": [
        "for c in range(0,10):\n",
        "  print(c)"
      ],
      "execution_count": 0,
      "outputs": []
    },
    {
      "cell_type": "markdown",
      "metadata": {
        "id": "jgaw5ay3bogV",
        "colab_type": "text"
      },
      "source": [
        "Definizione e utilizzo di procedure"
      ]
    },
    {
      "cell_type": "code",
      "metadata": {
        "id": "N5FYkRRUbqmM",
        "colab_type": "code",
        "colab": {}
      },
      "source": [
        "def calcola_somma(x,y):\n",
        "  return x+y\n"
      ],
      "execution_count": 0,
      "outputs": []
    },
    {
      "cell_type": "code",
      "metadata": {
        "id": "6Q2wolx9bv0V",
        "colab_type": "code",
        "colab": {}
      },
      "source": [
        "print(calcola_somma(4,5))"
      ],
      "execution_count": 0,
      "outputs": []
    },
    {
      "cell_type": "markdown",
      "metadata": {
        "id": "YLbeduiWcie1",
        "colab_type": "text"
      },
      "source": [
        "**Esercizio 1**: calcolare il fattoriale di un numero"
      ]
    },
    {
      "cell_type": "code",
      "metadata": {
        "id": "idCdF_osdh3c",
        "colab_type": "code",
        "colab": {}
      },
      "source": [
        "def fattoriale(num):\n",
        "  if num == 0:\n",
        "    return 1\n",
        "  else:\n",
        "    return num*fattoriale(num-1)"
      ],
      "execution_count": 0,
      "outputs": []
    },
    {
      "cell_type": "code",
      "metadata": {
        "id": "8UnF_C7dcncb",
        "colab_type": "code",
        "colab": {}
      },
      "source": [
        "n = int(input('Inserisci un numero: '))\n",
        "print('Il numero inserito è: ' + str(n))\n",
        "if(n < 0):\n",
        "  print('Impossibile calcolare il fattoriale di un numero negativo.')\n",
        "else:\n",
        "  print('Il suo fattoriale è: ' + str(fattoriale(n)))"
      ],
      "execution_count": 0,
      "outputs": []
    }
  ]
}